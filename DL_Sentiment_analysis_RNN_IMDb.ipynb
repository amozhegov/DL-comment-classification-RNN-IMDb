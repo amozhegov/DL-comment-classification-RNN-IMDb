{
  "nbformat": 4,
  "nbformat_minor": 0,
  "metadata": {
    "colab": {
      "provenance": []
    },
    "kernelspec": {
      "name": "python3",
      "display_name": "Python 3"
    },
    "language_info": {
      "name": "python"
    }
  },
  "cells": [
    {
      "cell_type": "markdown",
      "source": [
        "Sentiment analysis using Recurrent Neural Network"
      ],
      "metadata": {
        "id": "xgZS1vYIXlJr"
      }
    },
    {
      "cell_type": "markdown",
      "source": [
        "Libraries Import"
      ],
      "metadata": {
        "id": "YoLx5hjgZ7Cy"
      }
    },
    {
      "cell_type": "code",
      "execution_count": 15,
      "metadata": {
        "id": "vlaBtthdWbHW"
      },
      "outputs": [],
      "source": [
        "from tensorflow.keras.datasets import imdb\n",
        "from tensorflow.keras.models import Sequential\n",
        "from tensorflow.keras.layers import SimpleRNN, Embedding, Dense\n",
        "from tensorflow.keras import utils\n",
        "\n",
        "from tensorflow.keras.preprocessing.sequence import pad_sequences\n",
        "import numpy as np\n",
        "import matplotlib.pyplot as plt"
      ]
    },
    {
      "cell_type": "markdown",
      "source": [
        "Load and Split Data"
      ],
      "metadata": {
        "id": "QjI4OIn1Z5E8"
      }
    },
    {
      "cell_type": "code",
      "source": [
        "(x_train, y_train), (x_test, y_test) = imdb.load_data(num_words=10000)"
      ],
      "metadata": {
        "colab": {
          "base_uri": "https://localhost:8080/"
        },
        "id": "Xvoscx2mZwuO",
        "outputId": "8450b3ca-b42e-4d91-efbc-26acdfa2d2c3"
      },
      "execution_count": 5,
      "outputs": [
        {
          "output_type": "stream",
          "name": "stdout",
          "text": [
            "Downloading data from https://storage.googleapis.com/tensorflow/tf-keras-datasets/imdb.npz\n",
            "17464789/17464789 [==============================] - 2s 0us/step\n"
          ]
        }
      ]
    },
    {
      "cell_type": "code",
      "source": [
        "word_indexed_imdb = imdb.get_word_index()\n",
        "reverse_word_indexed_imdb = dict([(value, key) for (key, value) in word_indexed_imdb.items()])\n",
        "decoded_review = ' '.join([reverse_word_indexed_imdb.get(i - 3, '?') for i in x_train[0]])\n",
        "print(\"Sample Review:\")\n",
        "print(decoded_review)\n",
        "print(\"Label:\", y_train[0])"
      ],
      "metadata": {
        "colab": {
          "base_uri": "https://localhost:8080/"
        },
        "id": "m41zK4_e6ynu",
        "outputId": "4cd9562a-41c2-4dbf-98a3-08f2298a5f6f"
      },
      "execution_count": 46,
      "outputs": [
        {
          "output_type": "stream",
          "name": "stdout",
          "text": [
            "Sample Review:\n",
            "and you could just imagine being there robert ? is an amazing actor and now the same being director ? father came from the same scottish island as myself so i loved the fact there was a real connection with this film the witty remarks throughout the film were great it was just brilliant so much that i bought the film as soon as it was released for ? and would recommend it to everyone to watch and the fly fishing was amazing really cried at the end it was so sad and you know what they say if you cry at a film it must have been good and this definitely was also ? to the two little boy's that played the ? of norman and paul they were just brilliant children are often left out of the ? list i think because the stars that play them all grown up are such a big profile for the whole film but these children are amazing and should be praised for what they have done don't you think the whole story was so lovely because it was true and was someone's life after all that was shared with us all\n",
            "Label: 1\n"
          ]
        }
      ]
    },
    {
      "cell_type": "markdown",
      "source": [
        "Data Preprocessing"
      ],
      "metadata": {
        "id": "JyST_7jgaUAp"
      }
    },
    {
      "cell_type": "code",
      "source": [
        "x_train = pad_sequences(x_train, maxlen=200) # padding with zeroes\n",
        "x_test = pad_sequences(x_test, maxlen=200)"
      ],
      "metadata": {
        "id": "Koag9XkuaWEl"
      },
      "execution_count": 6,
      "outputs": []
    },
    {
      "cell_type": "code",
      "source": [
        "x_train[2000]"
      ],
      "metadata": {
        "colab": {
          "base_uri": "https://localhost:8080/"
        },
        "id": "1TsykXZZblbf",
        "outputId": "04c72884-63fd-404f-aa6c-1b422b5fa9e0"
      },
      "execution_count": 7,
      "outputs": [
        {
          "output_type": "execute_result",
          "data": {
            "text/plain": [
              "array([   0,    0,    0,    0,    0,    0,    0,    0,    0,    0,    0,\n",
              "          0,    0,    0,    0,    0,    0,    0,    0,    0,    0,    0,\n",
              "          0,    0,    0,    0,    0,    0,    0,    0,    0,    0,    0,\n",
              "          0,    0,    0,    0,    0,    0,    0,    0,    0,    0,    0,\n",
              "          0,    0,    0,    0,    0,    0,    0,    0,    0,    0,    0,\n",
              "          0,    0,    0,    0,    0,    0,    0,    0,    0,    0,    0,\n",
              "          0,    0,    0,    0,    0,    0,    0,    0,    0,    0,    0,\n",
              "          0,    0,    0,    0,    0,    0,    0,    0,    0,    0,    0,\n",
              "          0,    0,    0,    1,   14,   20, 1870,   39,  454, 2449,  262,\n",
              "          4,  130,   25,  242,   92,   79,    2,  101,  433,  116,  769,\n",
              "       1381,  370,  157,    2,   45,   32,   78,   55,   55,   78,   10,\n",
              "         10,   21,  198,   51,  166,   12,    6,    2,  106,   12,   80,\n",
              "        202,   25,   53,   74,  195,   52,  919,    4,  433,    4,  128,\n",
              "         10,   10,   13,   66,   28,   57, 2307,   51,   38,  126,    7,\n",
              "         51,  134,   84,   71,  536,  231,   14,   20,    6,  622,    2,\n",
              "         20,    4,   65,    9,    2,  647,   45,   53,   40,    6,  212,\n",
              "         11, 5659, 1932,   40, 3493,   82, 1149,   21, 1543,  163,   10,\n",
              "         10,    5,  168,   46,   18,    4,   55,   55,  130,    7,    4,\n",
              "         20,    2], dtype=int32)"
            ]
          },
          "metadata": {},
          "execution_count": 7
        }
      ]
    },
    {
      "cell_type": "markdown",
      "source": [
        "Neural Network Creation"
      ],
      "metadata": {
        "id": "da32lMQ7cL3z"
      }
    },
    {
      "cell_type": "code",
      "source": [
        "model = Sequential()\n",
        "# number of vectors = 10000\n",
        "# vector length = 2\n",
        "# number of tokens = 200\n",
        "model.add(Embedding(10000, 2, input_length=200))\n",
        "# SimpleRNN with 8 neurons\n",
        "model.add(SimpleRNN(8))\n",
        "# layer for classification\n",
        "model.add(Dense(1, activation='sigmoid'))"
      ],
      "metadata": {
        "id": "W-Wpb5nJcSe-"
      },
      "execution_count": 9,
      "outputs": []
    },
    {
      "cell_type": "code",
      "source": [
        "model.compile(optimizer='rmsprop',\n",
        "              loss='binary_crossentropy',\n",
        "              metrics=['accuracy'])"
      ],
      "metadata": {
        "id": "TyZkgT_jgXJo"
      },
      "execution_count": 10,
      "outputs": []
    },
    {
      "cell_type": "markdown",
      "source": [
        "Training Neural Network"
      ],
      "metadata": {
        "id": "hsz68ko3ncKB"
      }
    },
    {
      "cell_type": "code",
      "source": [
        "history = model.fit(x_train,\n",
        "                    y_train,\n",
        "                    epochs = 10,\n",
        "                    batch_size=128,\n",
        "                    validation_split=0.2)"
      ],
      "metadata": {
        "colab": {
          "base_uri": "https://localhost:8080/"
        },
        "id": "CScTvfonnaIB",
        "outputId": "a668f626-3391-4235-91ec-91fed08ba088"
      },
      "execution_count": 24,
      "outputs": [
        {
          "output_type": "stream",
          "name": "stdout",
          "text": [
            "Epoch 1/10\n",
            "157/157 [==============================] - 9s 55ms/step - loss: 0.0260 - accuracy: 0.9923 - val_loss: 0.4299 - val_accuracy: 0.8970\n",
            "Epoch 2/10\n",
            "157/157 [==============================] - 9s 54ms/step - loss: 0.0329 - accuracy: 0.9913 - val_loss: 0.4419 - val_accuracy: 0.8976\n",
            "Epoch 3/10\n",
            "157/157 [==============================] - 7s 45ms/step - loss: 0.0228 - accuracy: 0.9940 - val_loss: 0.4224 - val_accuracy: 0.9010\n",
            "Epoch 4/10\n",
            "157/157 [==============================] - 8s 53ms/step - loss: 0.0233 - accuracy: 0.9937 - val_loss: 0.3926 - val_accuracy: 0.9028\n",
            "Epoch 5/10\n",
            "157/157 [==============================] - 8s 51ms/step - loss: 0.0263 - accuracy: 0.9933 - val_loss: 0.4388 - val_accuracy: 0.9018\n",
            "Epoch 6/10\n",
            "157/157 [==============================] - 8s 49ms/step - loss: 0.0267 - accuracy: 0.9930 - val_loss: 0.4583 - val_accuracy: 0.8940\n",
            "Epoch 7/10\n",
            "157/157 [==============================] - 9s 54ms/step - loss: 0.0233 - accuracy: 0.9941 - val_loss: 0.3848 - val_accuracy: 0.9004\n",
            "Epoch 8/10\n",
            "157/157 [==============================] - 7s 45ms/step - loss: 0.0253 - accuracy: 0.9936 - val_loss: 0.4171 - val_accuracy: 0.8960\n",
            "Epoch 9/10\n",
            "157/157 [==============================] - 8s 54ms/step - loss: 0.0237 - accuracy: 0.9943 - val_loss: 0.3953 - val_accuracy: 0.9036\n",
            "Epoch 10/10\n",
            "157/157 [==============================] - 9s 57ms/step - loss: 0.0213 - accuracy: 0.9948 - val_loss: 0.4240 - val_accuracy: 0.9014\n"
          ]
        }
      ]
    },
    {
      "cell_type": "code",
      "source": [
        "#accuracy: 0.9915 - val_loss: 0.3026 - val_accuracy: 0.9234\n",
        "plt.plot(history.history['accuracy'],\n",
        "         label=\"% of Right predictions on training set\")\n",
        "plt.plot(history.history['val_accuracy'],\n",
        "         label=\"% of Right predictions on test set\")\n",
        "plt.xlabel('Epochs')\n",
        "plt.ylabel('Right predictions %')\n",
        "plt.legend()\n",
        "plt.show()"
      ],
      "metadata": {
        "colab": {
          "base_uri": "https://localhost:8080/",
          "height": 449
        },
        "id": "iMmOhYMdyozA",
        "outputId": "21a5cb0c-9dd7-47b3-92d6-3a9ed3c22593"
      },
      "execution_count": 26,
      "outputs": [
        {
          "output_type": "display_data",
          "data": {
            "text/plain": [
              "<Figure size 640x480 with 1 Axes>"
            ],
            "image/png": "[encoded data removed]"
          },
          "metadata": {}
        }
      ]
    },
    {
      "cell_type": "markdown",
      "source": [
        "Model Evaluation"
      ],
      "metadata": {
        "id": "SmS7xde31Mvm"
      }
    },
    {
      "cell_type": "code",
      "source": [
        "scores = model.evaluate(x_test, y_test, verbose=1)"
      ],
      "metadata": {
        "colab": {
          "base_uri": "https://localhost:8080/"
        },
        "id": "aVPedKrF1OIi",
        "outputId": "5593c780-be2f-49fb-c6ea-eba52938db09"
      },
      "execution_count": 27,
      "outputs": [
        {
          "output_type": "stream",
          "name": "stdout",
          "text": [
            "782/782 [==============================] - 8s 10ms/step - loss: 0.8399 - accuracy: 0.8187\n"
          ]
        }
      ]
    },
    {
      "cell_type": "markdown",
      "source": [
        "Prediction"
      ],
      "metadata": {
        "id": "G2m1iJ9c-Mmk"
      }
    },
    {
      "cell_type": "code",
      "source": [
        "from keras.preprocessing.text import Tokenizer"
      ],
      "metadata": {
        "id": "b7q1DEjSA8jd"
      },
      "execution_count": 65,
      "outputs": []
    },
    {
      "cell_type": "code",
      "source": [
        "# Data Tokenization\n",
        "comment = 'Best movie'\n",
        "tokenizer = Tokenizer(num_words=1000)\n",
        "tokenizer.fit_on_texts([comment])"
      ],
      "metadata": {
        "id": "N_pXm1sZ_AUd"
      },
      "execution_count": 90,
      "outputs": []
    },
    {
      "cell_type": "code",
      "source": [
        "# Convert the comment to a sequence of integers\n",
        "comment_sequence = tokenizer.texts_to_sequences([comment])[0]"
      ],
      "metadata": {
        "id": "qh7g0a5bCjVL"
      },
      "execution_count": 92,
      "outputs": []
    },
    {
      "cell_type": "code",
      "source": [
        "padded_comment = pad_sequences([comment_sequence], maxlen=200, value=0)"
      ],
      "metadata": {
        "id": "r1qJBxLnCtaz"
      },
      "execution_count": 93,
      "outputs": []
    },
    {
      "cell_type": "code",
      "source": [
        "print(\"Original Comment Sequence:\", comment_sequence)\n",
        "print(\"Padded Comment Sequence:\", padded_comment)"
      ],
      "metadata": {
        "colab": {
          "base_uri": "https://localhost:8080/"
        },
        "id": "XQNFKlQADFHy",
        "outputId": "a96b1058-feda-4874-a727-d8bf63b21370"
      },
      "execution_count": 94,
      "outputs": [
        {
          "output_type": "stream",
          "name": "stdout",
          "text": [
            "Original Comment Sequence: [1, 2]\n",
            "Padded Comment Sequence: [[0 0 0 0 0 0 0 0 0 0 0 0 0 0 0 0 0 0 0 0 0 0 0 0 0 0 0 0 0 0 0 0 0 0 0 0\n",
            "  0 0 0 0 0 0 0 0 0 0 0 0 0 0 0 0 0 0 0 0 0 0 0 0 0 0 0 0 0 0 0 0 0 0 0 0\n",
            "  0 0 0 0 0 0 0 0 0 0 0 0 0 0 0 0 0 0 0 0 0 0 0 0 0 0 0 0 0 0 0 0 0 0 0 0\n",
            "  0 0 0 0 0 0 0 0 0 0 0 0 0 0 0 0 0 0 0 0 0 0 0 0 0 0 0 0 0 0 0 0 0 0 0 0\n",
            "  0 0 0 0 0 0 0 0 0 0 0 0 0 0 0 0 0 0 0 0 0 0 0 0 0 0 0 0 0 0 0 0 0 0 0 0\n",
            "  0 0 0 0 0 0 0 0 0 0 0 0 0 0 0 0 0 0 1 2]]\n"
          ]
        }
      ]
    },
    {
      "cell_type": "code",
      "source": [
        "prediction = model.predict(padded_comment)"
      ],
      "metadata": {
        "colab": {
          "base_uri": "https://localhost:8080/"
        },
        "id": "AMEGjj4Q8ZRh",
        "outputId": "a1bb726e-fb95-434f-d560-cab9fc44f27a"
      },
      "execution_count": 95,
      "outputs": [
        {
          "output_type": "stream",
          "name": "stdout",
          "text": [
            "1/1 [==============================] - 0s 26ms/step\n"
          ]
        }
      ]
    },
    {
      "cell_type": "code",
      "source": [
        "if prediction[0] > 0.5:\n",
        "    result = \"Positive\"\n",
        "else:\n",
        "    result = \"Negative\"\n",
        "\n",
        "print(\"Input Text:\", comment)\n",
        "print(\"Prediction:\", prediction[0])\n",
        "print(\"Result:\", result)"
      ],
      "metadata": {
        "colab": {
          "base_uri": "https://localhost:8080/"
        },
        "id": "marT-IjcDs2u",
        "outputId": "fedbe8dc-f084-423d-e8ae-1580ad669513"
      },
      "execution_count": 96,
      "outputs": [
        {
          "output_type": "stream",
          "name": "stdout",
          "text": [
            "Input Text: Best movie\n",
            "Prediction: [0.7641768]\n",
            "Result: Positive\n"
          ]
        }
      ]
    }
  ]
}